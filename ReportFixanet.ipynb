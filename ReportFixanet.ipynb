{
 "cells": [
  {
   "cell_type": "code",
   "execution_count": 4,
   "metadata": {},
   "outputs": [],
   "source": [
    "from selenium import webdriver\n",
    "from selenium.webdriver.support.ui import WebDriverWait\n",
    "from selenium.webdriver.support import expected_conditions as EC\n",
    "from selenium.webdriver.common.keys import Keys\n",
    "from selenium.webdriver.common.by import By\n",
    "from selenium.common.exceptions import TimeoutException"
   ]
  },
  {
   "cell_type": "code",
   "execution_count": 29,
   "metadata": {},
   "outputs": [
    {
     "name": "stdout",
     "output_type": "stream",
     "text": [
      "williamaleff@fixanet.com\n"
     ]
    }
   ],
   "source": [
    "import time\n",
    "from selenium.webdriver.chrome.options import Options\n",
    "login = \"williamalefe@fixanet.com\"\n",
    "chrome_options = Options()\n",
    "#chrome_options.headless = True \n",
    "navegador = webdriver.Chrome(options=chrome_options)\n",
    "\n",
    "navegador.get(\"https://sistema.fixanettelecom.com.br/login\")\n",
    "navegador.find_element(By.XPATH, '/html/body/div[2]/div/div[2]/form/div[1]/input').send_keys(\"william\")\n",
    "navegador.find_element(By.XPATH, '/html/body/div[2]/div/div[2]/form/div[2]/input').send_keys(\"william123\")\n",
    "navegador.find_element(By.XPATH, '/html/body/div[2]/div/div[2]/form/div[2]/input').send_keys(Keys.ENTER)\n",
    "time.sleep(5)\n",
    "navegador.get(\"https://sistema.fixanettelecom.com.br/contratos\")\n",
    "time.sleep(5)\n",
    "#Pesquisar o login\n",
    "navegador.find_element(By.XPATH, '/html/body/div[1]/div/section/div[3]/div[2]/div[2]/div[1]/div[2]/div/label/input').send_keys(\"williamaleff@fixanet.com\")\n",
    "navegador.find_element(By.XPATH, '/html/body/div[1]/div/section/div[3]/div[2]/div[2]/div[1]/div[2]/div/label/input').send_keys(Keys.ENTER)\n",
    "time.sleep(5)\n",
    "\n",
    "# --- Entra no login do cliente tem uns com 5 abas e outros com 6\n",
    "delay = 5\n",
    "try:\n",
    "    WebDriverWait(navegador, delay).until(EC.element_to_be_clickable((By.XPATH, '/html/body/div[1]/div/section/div[3]/div[2]/div[2]/div[2]/div/table/tbody/tr/td[2]/a'))).click()\n",
    "except TimeoutException:\n",
    "    print('Erro ao clicar no link do cliente.')\n",
    "# --- #\n",
    "\n",
    "try:\n",
    "    #clica na 5° aba\n",
    "    WebDriverWait(navegador, delay).until(EC.element_to_be_clickable((By.XPATH, '/html/body/div[1]/div/section/div[3]/div[1]/div/div[2]/div/form/div[3]/div/ul/li[5]/a'))).click()\n",
    "    #Clica no botao que aparece as informações de conexão do cliente\n",
    "    time.sleep(5)\n",
    "    WebDriverWait(navegador, delay).until(EC.element_to_be_clickable((By.XPATH, '/html/body/div[1]/div/section/div[3]/div[1]/div/div[2]/div/form/div[3]/div/div/div[3]/table[1]/tbody/tr/td[7]/div/div[3]/a/i'))).click()\n",
    "                                                                                #/html/body/div[1]/div/section/div[3]/div[1]/div/div[2]/div/form/div[3]/div/div/div[4]/table[1]/tbody/tr[1]/td[7]/div/div[3]/a/i\n",
    "    time.sleep(5)\n",
    "    navegador.find_element(By.XPATH, '/html/body/div[1]/div/section/div[3]/form[3]/div/div/div/div[2]/div[3]/div[16]/div/input').clear()\n",
    "    navegador.find_element(By.XPATH, '/html/body/div[1]/div/section/div[3]/form[3]/div/div/div/div[2]/div[3]/div[16]/div/input').send_keys(\"WILLIAM/ATIVACAO\")\n",
    "    #clica no botao de salvar\n",
    "    WebDriverWait(navegador, delay).until(EC.element_to_be_clickable((By.XPATH, '/html/body/div[1]/div/section/div[3]/form[3]/div/div/div/div[2]/div[4]/input'))).click()\n",
    "except TimeoutException:\n",
    "    #Se for de 6 abas\n",
    "    WebDriverWait(navegador, delay).until(EC.element_to_be_clickable((By.XPATH, '/html/body/div[1]/div/section/div[3]/div[1]/div/div[2]/div/form/div[3]/div/ul/li[6]/a'))).click()\n",
    "    time.sleep(5)\n",
    "\n",
    "    login_cliente = navegador.find_element(By.XPATH,'/html/body/div[1]/div/section/div[3]/div[1]/div/div[2]/div/form/div[3]/div/div/div[4]/table[1]/tbody/tr[1]/td[2]').text\n",
    "    print(login_cliente)\n",
    "\n",
    "    if(login==login_cliente):\n",
    "        print(\"Passou!!\")\n",
    "        time.sleep(5)\n",
    "        WebDriverWait(navegador, delay).until(EC.element_to_be_clickable((By.XPATH, '/html/body/div[1]/div/section/div[3]/div[1]/div/div[2]/div/form/div[3]/div/div/div[4]/table[1]/tbody/tr[1]/td[7]/div/div[3]/a/i'))).click()\n",
    "\n",
    "        time.sleep(5)                 \n",
    "\n",
    "        #Limpar descrição\n",
    "        navegador.find_element(By.XPATH, '/html/body/div[1]/div/section/div[3]/form[3]/div/div/div/div[2]/div[3]/div[16]/div/input').clear()\n",
    "        #digitar descrição nova\n",
    "        navegador.find_element(By.XPATH, '/html/body/div[1]/div/section/div[3]/form[3]/div/div/div/div[2]/div[3]/div[16]/div/input').send_keys(\"WILLIAM/ATIVACAO\")\n",
    "        WebDriverWait(navegador, delay).until(EC.element_to_be_clickable((By.XPATH, '/html/body/div[1]/div/section/div[3]/form[3]/div/div/div/div[2]/div[4]/input'))).click()\n",
    " \n",
    "#cotacao_dolar = navegador.find_element(By.XPATH,'/html/body/div[6]/div/div[11]/div/div[2]/div[2]/div/div/div[1]/div/div/div/div/div/div/div/div/div/div[3]/div[1]/div[1]/div[2]/span[1]').get_attribute('data-value')\n",
    "#print(cotacao_dolar)\n",
    "\n",
    "navegador.quit() \n",
    "\n",
    "#ERROS: não valida o login pega o primeiro, não modifica vários"
   ]
  },
  {
   "cell_type": "code",
   "execution_count": 27,
   "metadata": {},
   "outputs": [
    {
     "name": "stdout",
     "output_type": "stream",
     "text": [
      "\n",
      "OK\n"
     ]
    }
   ],
   "source": [
    "import time\n",
    "from selenium.webdriver.chrome.options import Options\n",
    "chrome_options = Options()\n",
    "#chrome_options.headless = True \n",
    "navegador = webdriver.Chrome(options=chrome_options)\n",
    "\n",
    "navegador.get(\"https://www.google.com.br/\")\n",
    "navegador.find_element(By.XPATH, '/html/body/div[1]/div[3]/form/div[1]/div[1]/div[1]/div/div[2]/textarea').send_keys(\"cotação dólar\")\n",
    "texto = navegador.find_element(By.XPATH, '/html/body/div[1]/div[3]/form/div[1]/div[1]/div[1]/div/div[2]/textarea').text\n",
    "navegador.find_element(By.XPATH, '/html/body/div[1]/div[3]/form/div[1]/div[1]/div[1]/div/div[2]/textarea').clear()\n",
    "print(texto)\n",
    "print(\"OK\")\n",
    "#time.sleep(15)\n",
    "#cotacao_dolar = navegador.find_element(By.XPATH,'/html/body/div[6]/div/div[11]/div/div[2]/div[2]/div/div/div[1]/div/div/div/div/div/div/div/div/div/div[3]/div[1]/div[1]/div[2]/span[1]').get_attribute('data-value')\n",
    "                                                 #/html/body/div[6]/div/div[11]/div/div[2]/div[2]/div/div/div[1]/div/div/div/div/div/div/div/div/div/div[3]/div[1]/div[1]/div[2]/span[1]\n",
    "#print(cotacao_dolar)\n"
   ]
  }
 ],
 "metadata": {
  "kernelspec": {
   "display_name": "Python 3",
   "language": "python",
   "name": "python3"
  },
  "language_info": {
   "codemirror_mode": {
    "name": "ipython",
    "version": 3
   },
   "file_extension": ".py",
   "mimetype": "text/x-python",
   "name": "python",
   "nbconvert_exporter": "python",
   "pygments_lexer": "ipython3",
   "version": "3.8.8"
  },
  "orig_nbformat": 4
 },
 "nbformat": 4,
 "nbformat_minor": 2
}
