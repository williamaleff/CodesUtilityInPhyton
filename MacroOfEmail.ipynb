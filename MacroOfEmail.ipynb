{
 "cells": [
  {
   "cell_type": "code",
   "execution_count": 18,
   "metadata": {},
   "outputs": [
    {
     "data": {
      "text/plain": [
       "Point(x=305, y=381)"
      ]
     },
     "execution_count": 18,
     "metadata": {},
     "output_type": "execute_result"
    }
   ],
   "source": [
    "#Check Position current\n",
    "import pyautogui\n",
    "import time\n",
    "time.sleep(15)\n",
    "pyautogui.position()"
   ]
  },
  {
   "cell_type": "code",
   "execution_count": 2,
   "metadata": {},
   "outputs": [],
   "source": [
    "import pandas as pd\n",
    "import gspread"
   ]
  },
  {
   "cell_type": "code",
   "execution_count": 3,
   "metadata": {},
   "outputs": [],
   "source": [
    "#Search Of Token JSON Google\n",
    "gc = gspread.service_account(filename='C:/Users/Marcilio Santos/Downloads/phytonConnectGoogleDriveKeyJSON/sheetsconnectproject-5972d14b2093.json')"
   ]
  },
  {
   "cell_type": "code",
   "execution_count": 4,
   "metadata": {},
   "outputs": [],
   "source": [
    "#Search of GoogleSheet\n",
    "dataTable = gc.open_by_url(\"https://docs.google.com/spreadsheets/d/1JjCMGpre7GV0fM2rBr9oqiNvArhAa_1kpbTc1R9kvN8/edit#gid=0\").\\\n",
    "worksheet(\"Página1\")"
   ]
  },
  {
   "cell_type": "code",
   "execution_count": 5,
   "metadata": {},
   "outputs": [],
   "source": [
    "columnsOfTable = dataTable.get_all_values().pop(0)"
   ]
  },
  {
   "cell_type": "code",
   "execution_count": 6,
   "metadata": {},
   "outputs": [],
   "source": [
    "df = pd.DataFrame(data=dataTable.get_all_values(), columns=columnsOfTable).drop(index=0).reset_index(drop=True)"
   ]
  },
  {
   "cell_type": "code",
   "execution_count": 19,
   "metadata": {},
   "outputs": [
    {
     "name": "stdout",
     "output_type": "stream",
     "text": [
      "societario@serviconsc.com.br JS DESENVOLVIMENTO DE SOFTWARES LTDA\n"
     ]
    }
   ],
   "source": [
    "#Testing send of one\n",
    "import pyautogui\n",
    "import time\n",
    "import pyperclip\n",
    "\n",
    "email = df['Email'][76]\n",
    "name = df['Company'][76]\n",
    "time.sleep(5)\n",
    "pyautogui.click(x=98, y=167)\n",
    "time.sleep(3)\n",
    "# Writing email\n",
    "pyautogui.write(f\"\"\"{email}\"\"\")\n",
    "pyautogui.press(\"tab\") # Choose email\n",
    "pyautogui.press(\"tab\") # Select TextField of subject\n",
    "# Writing subject\n",
    "subject = \"Programador\"\n",
    "pyperclip.copy(subject)\n",
    "pyautogui.hotkey(\"ctrl\", \"v\")\n",
    "pyautogui.press(\"tab\") # Select TextArea of email\n",
    "time.sleep(1)\n",
    "# Writing TextArea of email\n",
    "text = f\"\"\"\n",
    "Sou William Alefe\n",
    "Um jovem programador com disponibilidade para somar com novas tecnologias e ideias para a empresa.\n",
    "Tempo e disposição para trabalhar, desenvolvo desde 2012.\n",
    "Em busca de novos desafios.\n",
    "\n",
    "\n",
    "https://github.com/williamaleff\n",
    "Cel: 88 9 96720754\n",
    "\n",
    "Agradeço a {name} pela atenção.\n",
    "\n",
    "\"\"\"\n",
    "\n",
    "pyperclip.copy(text)\n",
    "pyautogui.hotkey(\"ctrl\", \"v\")\n",
    "time.sleep(3)\n",
    "#Send attachment\n",
    "pyautogui.click(x=373, y=828)\n",
    "time.sleep(6)\n",
    "pyautogui.click(x=305, y=381)\n",
    "pyautogui.click(x=305, y=381)\n",
    "time.sleep(6)\n",
    "#Send email\n",
    "pyautogui.hotkey(\"ctrl\", \"enter\")\n",
    "print(email,name)"
   ]
  },
  {
   "cell_type": "code",
   "execution_count": null,
   "metadata": {},
   "outputs": [],
   "source": [
    "maxCounter = len(df['Email']) \n",
    "counter = 0\n",
    "\n",
    "while counter<maxCounter :\n",
    "    email = df['Email'][counter]\n",
    "    name = df['Company'][counter]\n",
    "    time.sleep(6)\n",
    "    pyautogui.click(x=98, y=167)\n",
    "    time.sleep(3)\n",
    "    ## Writing email\n",
    "    pyautogui.write(f\"\"\"{email}\"\"\")\n",
    "    time.sleep(2)\n",
    "    pyautogui.press(\"tab\") ## Choose email  \n",
    "    time.sleep(2)\n",
    "    pyautogui.press(\"tab\") # Select textField subject\n",
    "    # Write sbject\n",
    "    subject = \"Programador\"\n",
    "    pyperclip.copy(subject)\n",
    "    pyautogui.hotkey(\"ctrl\", \"v\")\n",
    "    pyautogui.press(\"tab\") # Choose textArea of email\n",
    "    time.sleep(2)\n",
    "    # Writing textArea of email\n",
    "    text = f\"\"\"\n",
    "    Sou William Alefe\n",
    "    Um jovem programador com disponibilidade para somar com novas tecnologias e ideias para a empresa.\n",
    "    Tempo e disposição para trabalhar, desenvolvo desde 2012.\n",
    "    Em busca de novos desafios.\n",
    "\n",
    "\n",
    "    https://github.com/williamaleff\n",
    "    Cel: 88 9 96720754\n",
    "\n",
    "    Agradeço a {name} pela atenção.\n",
    "\n",
    "    \"\"\"\n",
    "\n",
    "    pyperclip.copy(text)\n",
    "    pyautogui.hotkey(\"ctrl\", \"v\")\n",
    "    time.sleep(3)\n",
    "    #Send attachment\n",
    "    pyautogui.click(x=373, y=828)\n",
    "    time.sleep(6)\n",
    "    pyautogui.click(x=305, y=381)\n",
    "    pyautogui.click(x=305, y=381)\n",
    "    time.sleep(6)\n",
    "    # Send email\n",
    "    pyautogui.hotkey(\"ctrl\", \"enter\")\n",
    "    print(email,name)\n",
    "    counter=counter+1\n",
    "    print(\"success!\")"
   ]
  },
  {
   "cell_type": "code",
   "execution_count": 8,
   "metadata": {},
   "outputs": [
    {
     "data": {
      "text/html": [
       "<div>\n",
       "<style scoped>\n",
       "    .dataframe tbody tr th:only-of-type {\n",
       "        vertical-align: middle;\n",
       "    }\n",
       "\n",
       "    .dataframe tbody tr th {\n",
       "        vertical-align: top;\n",
       "    }\n",
       "\n",
       "    .dataframe thead th {\n",
       "        text-align: right;\n",
       "    }\n",
       "</style>\n",
       "<table border=\"1\" class=\"dataframe\">\n",
       "  <thead>\n",
       "    <tr style=\"text-align: right;\">\n",
       "      <th></th>\n",
       "      <th>Company</th>\n",
       "      <th>Email</th>\n",
       "      <th>City</th>\n",
       "    </tr>\n",
       "  </thead>\n",
       "  <tbody>\n",
       "    <tr>\n",
       "      <th>0</th>\n",
       "      <td>Sistech</td>\n",
       "      <td>sistech.ce@gmail.com</td>\n",
       "      <td>Juazeiro do Norte</td>\n",
       "    </tr>\n",
       "    <tr>\n",
       "      <th>1</th>\n",
       "      <td>Fastti</td>\n",
       "      <td>contato@fastti.com</td>\n",
       "      <td>Fortaleza</td>\n",
       "    </tr>\n",
       "    <tr>\n",
       "      <th>2</th>\n",
       "      <td>Micro &amp; Money informática</td>\n",
       "      <td>micromoney@gmail.com</td>\n",
       "      <td>Fortaleza</td>\n",
       "    </tr>\n",
       "    <tr>\n",
       "      <th>3</th>\n",
       "      <td>Polibras Brasil Software LTDA</td>\n",
       "      <td>regina.alves@polibrasnet.com.br</td>\n",
       "      <td>Aquiraz</td>\n",
       "    </tr>\n",
       "    <tr>\n",
       "      <th>4</th>\n",
       "      <td>STACK Tecnologia</td>\n",
       "      <td>contato@stacktecnologia.com.br</td>\n",
       "      <td>Fortaleza</td>\n",
       "    </tr>\n",
       "    <tr>\n",
       "      <th>...</th>\n",
       "      <td>...</td>\n",
       "      <td>...</td>\n",
       "      <td>...</td>\n",
       "    </tr>\n",
       "    <tr>\n",
       "      <th>73</th>\n",
       "      <td>ZACCHI SOFTWARE</td>\n",
       "      <td>bruna@lohncontabil.com.br</td>\n",
       "      <td>Palhoça</td>\n",
       "    </tr>\n",
       "    <tr>\n",
       "      <th>74</th>\n",
       "      <td>ZALF SISTEMAS</td>\n",
       "      <td>analista.contabil@avilan.com.br</td>\n",
       "      <td>Palhoça</td>\n",
       "    </tr>\n",
       "    <tr>\n",
       "      <th>75</th>\n",
       "      <td>ARTHUR R P SO - DESENVOLVIMENTO DE SOFTWARE</td>\n",
       "      <td>SOARTHUR@HOTMAIL.COM</td>\n",
       "      <td>Palhoça</td>\n",
       "    </tr>\n",
       "    <tr>\n",
       "      <th>76</th>\n",
       "      <td>JS DESENVOLVIMENTO DE SOFTWARES LTDA</td>\n",
       "      <td>societario@serviconsc.com.br</td>\n",
       "      <td>Palhoça</td>\n",
       "    </tr>\n",
       "    <tr>\n",
       "      <th>77</th>\n",
       "      <td>RMS DESENVOLVIMENTO DE SOFTWARE LTDA</td>\n",
       "      <td>raphaelmacsa@gmail.com</td>\n",
       "      <td>Palhoça</td>\n",
       "    </tr>\n",
       "  </tbody>\n",
       "</table>\n",
       "<p>78 rows × 3 columns</p>\n",
       "</div>"
      ],
      "text/plain": [
       "                                        Company  \\\n",
       "0                                       Sistech   \n",
       "1                                        Fastti   \n",
       "2                     Micro & Money informática   \n",
       "3                 Polibras Brasil Software LTDA   \n",
       "4                              STACK Tecnologia   \n",
       "..                                          ...   \n",
       "73                              ZACCHI SOFTWARE   \n",
       "74                                ZALF SISTEMAS   \n",
       "75  ARTHUR R P SO - DESENVOLVIMENTO DE SOFTWARE   \n",
       "76         JS DESENVOLVIMENTO DE SOFTWARES LTDA   \n",
       "77         RMS DESENVOLVIMENTO DE SOFTWARE LTDA   \n",
       "\n",
       "                              Email               City  \n",
       "0              sistech.ce@gmail.com  Juazeiro do Norte  \n",
       "1                contato@fastti.com          Fortaleza  \n",
       "2              micromoney@gmail.com          Fortaleza  \n",
       "3   regina.alves@polibrasnet.com.br            Aquiraz  \n",
       "4    contato@stacktecnologia.com.br          Fortaleza  \n",
       "..                              ...                ...  \n",
       "73        bruna@lohncontabil.com.br            Palhoça  \n",
       "74  analista.contabil@avilan.com.br            Palhoça  \n",
       "75             SOARTHUR@HOTMAIL.COM            Palhoça  \n",
       "76     societario@serviconsc.com.br            Palhoça  \n",
       "77           raphaelmacsa@gmail.com            Palhoça  \n",
       "\n",
       "[78 rows x 3 columns]"
      ]
     },
     "execution_count": 8,
     "metadata": {},
     "output_type": "execute_result"
    }
   ],
   "source": [
    "df"
   ]
  }
 ],
 "metadata": {
  "kernelspec": {
   "display_name": "Python 3",
   "language": "python",
   "name": "python3"
  },
  "language_info": {
   "codemirror_mode": {
    "name": "ipython",
    "version": 3
   },
   "file_extension": ".py",
   "mimetype": "text/x-python",
   "name": "python",
   "nbconvert_exporter": "python",
   "pygments_lexer": "ipython3",
   "version": "3.8.8"
  },
  "orig_nbformat": 4
 },
 "nbformat": 4,
 "nbformat_minor": 2
}
