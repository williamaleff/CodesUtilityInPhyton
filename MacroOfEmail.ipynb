{
 "cells": [
  {
   "cell_type": "code",
   "execution_count": null,
   "metadata": {},
   "outputs": [],
   "source": [
    "#Check Position current\n",
    "import pyautogui\n",
    "import time\n",
    "time.sleep(10)\n",
    "pyautogui.position()"
   ]
  },
  {
   "cell_type": "code",
   "execution_count": null,
   "metadata": {},
   "outputs": [],
   "source": [
    "import pandas as pd\n",
    "import gspread"
   ]
  },
  {
   "cell_type": "code",
   "execution_count": null,
   "metadata": {},
   "outputs": [],
   "source": [
    "#Search Of Token JSON Google\n",
    "gc = gspread.service_account(filename='C:/Users/Marcilio Santos/Downloads/phytonConnectGoogleDriveKeyJSON/sheetsconnectproject-5972d14b2093.json')"
   ]
  },
  {
   "cell_type": "code",
   "execution_count": null,
   "metadata": {},
   "outputs": [],
   "source": [
    "#Search of GoogleSheet\n",
    "dataTable = gc.open_by_url(\"https://docs.google.com/spreadsheets/d/1JjCMGpre7GV0fM2rBr9oqiNvArhAa_1kpbTc1R9kvN8/edit#gid=0\").\\\n",
    "worksheet(\"Página1\")"
   ]
  },
  {
   "cell_type": "code",
   "execution_count": null,
   "metadata": {},
   "outputs": [],
   "source": [
    "columnsOfTable = dataTable.get_all_values().pop(0)"
   ]
  },
  {
   "cell_type": "code",
   "execution_count": null,
   "metadata": {},
   "outputs": [],
   "source": [
    "df = pd.DataFrame(data=dataTable.get_all_values(), columns=columnsOfTable).drop(index=0).reset_index(drop=True)"
   ]
  },
  {
   "cell_type": "code",
   "execution_count": null,
   "metadata": {},
   "outputs": [],
   "source": [
    "#Testing send of one\n",
    "import pyautogui\n",
    "import time\n",
    "import pyperclip\n",
    "\n",
    "email = df['Email'][18]\n",
    "name = df['Company'][18]\n",
    "time.sleep(5)\n",
    "pyautogui.click(x=98, y=167)\n",
    "time.sleep(3)\n",
    "# Writing email\n",
    "pyautogui.write(f\"\"\"{email}\"\"\")\n",
    "pyautogui.press(\"tab\") # Choose email\n",
    "pyautogui.press(\"tab\") # Select TextField of subject\n",
    "# Writing subject\n",
    "subject = \"Programador\"\n",
    "pyperclip.copy(subject)\n",
    "pyautogui.hotkey(\"ctrl\", \"v\")\n",
    "pyautogui.press(\"tab\") # Select TextArea of email\n",
    "time.sleep(1)\n",
    "# Writing TextArea of email\n",
    "text = f\"\"\"\n",
    "Sou William Alefe\n",
    "Um jovem programador com disponibilidade para somar com novas tecnologias e ideias para a empresa.\n",
    "Tempo e disposição para trabalhar, desenvolvo desde 2012.\n",
    "Em busca de novos desafios.\n",
    "\n",
    "\n",
    "https://github.com/williamaleff\n",
    "Cel: 88 9 96720754\n",
    "\n",
    "Agradeço a {name} pela atenção.\n",
    "\n",
    "\"\"\"\n",
    "\n",
    "pyperclip.copy(text)\n",
    "pyautogui.hotkey(\"ctrl\", \"v\")\n",
    "time.sleep(3)\n",
    "#Send attachment\n",
    "pyautogui.click(x=373, y=828)\n",
    "time.sleep(6)\n",
    "pyautogui.click(x=298, y=457)\n",
    "pyautogui.click(x=298, y=457)\n",
    "time.sleep(6)\n",
    "#Send email\n",
    "pyautogui.hotkey(\"ctrl\", \"enter\")\n",
    "print(email,name)"
   ]
  },
  {
   "cell_type": "code",
   "execution_count": null,
   "metadata": {},
   "outputs": [],
   "source": [
    "maxCounter = len(df['Email']) \n",
    "counter = 0\n",
    "\n",
    "while counter<maxCounter :\n",
    "    email = df['Email'][counter]\n",
    "    name = df['Company'][counter]\n",
    "    time.sleep(6)\n",
    "    pyautogui.click(x=98, y=167)\n",
    "    time.sleep(3)\n",
    "    ## Writing email\n",
    "    pyautogui.write(f\"\"\"{email}\"\"\")\n",
    "    time.sleep(2)\n",
    "    pyautogui.press(\"tab\") ## Choose email  \n",
    "    time.sleep(2)\n",
    "    pyautogui.press(\"tab\") # Select textField subject\n",
    "    # Write sbject\n",
    "    subject = \"Programador\"\n",
    "    pyperclip.copy(subject)\n",
    "    pyautogui.hotkey(\"ctrl\", \"v\")\n",
    "    pyautogui.press(\"tab\") # Choose textArea of email\n",
    "    time.sleep(2)\n",
    "    # Writing textArea of email\n",
    "    text = f\"\"\"\n",
    "    Sou William Alefe\n",
    "    Um jovem programador com disponibilidade para somar com novas tecnologias e ideias para a empresa.\n",
    "    Tempo e disposição para trabalhar, desenvolvo desde 2012.\n",
    "    Em busca de novos desafios.\n",
    "\n",
    "\n",
    "    https://github.com/williamaleff\n",
    "    Cel: 88 9 96720754\n",
    "\n",
    "    Agradeço a {name} pela atenção.\n",
    "\n",
    "    \"\"\"\n",
    "\n",
    "    pyperclip.copy(text)\n",
    "    pyautogui.hotkey(\"ctrl\", \"v\")\n",
    "    time.sleep(3)\n",
    "    #Send attachment\n",
    "    pyautogui.click(x=373, y=828)\n",
    "    time.sleep(6)\n",
    "    pyautogui.click(x=298, y=457)\n",
    "    pyautogui.click(x=298, y=457)\n",
    "    time.sleep(6)\n",
    "    # Send email\n",
    "    pyautogui.hotkey(\"ctrl\", \"enter\")\n",
    "    print(email,name)\n",
    "    counter=counter+1\n",
    "    print(\"success!\")"
   ]
  }
 ],
 "metadata": {
  "language_info": {
   "name": "python"
  },
  "orig_nbformat": 4
 },
 "nbformat": 4,
 "nbformat_minor": 2
}
